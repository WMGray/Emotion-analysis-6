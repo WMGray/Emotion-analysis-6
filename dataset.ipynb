{
 "cells": [
  {
   "cell_type": "markdown",
   "source": [
    "1. 将各感情各自组成一个文件\n",
    "2. 删除多余的符号 eg: !!!-->!\n",
    "3. 数据去重"
   ],
   "metadata": {
    "collapsed": false
   }
  },
  {
   "cell_type": "code",
   "execution_count": 13,
   "outputs": [],
   "source": [
    "import os\n",
    "import re\n",
    "import json\n",
    "import codecs\n",
    "import pandas as pd\n",
    "import random\n",
    "from config import Config\n",
    "import jieba"
   ],
   "metadata": {
    "collapsed": false
   }
  },
  {
   "cell_type": "code",
   "execution_count": 2,
   "outputs": [],
   "source": [
    "emo_dict = {'null': 0, 'like': 1, 'sad': 2, 'disgust': 3, 'angry': 4, 'happy': 5}"
   ],
   "metadata": {
    "collapsed": false
   }
  },
  {
   "cell_type": "code",
   "execution_count": 3,
   "outputs": [],
   "source": [
    "def select_data(data_path: str, result_path: str, count: int):\n",
    "    \"\"\"随机选取指定数目的数据\"\"\"\n",
    "    data = codecs.open(data_path,  encoding=Config.encoding, errors='replace')\n",
    "    result = codecs.open(result_path, 'w', encoding=Config.encoding)\n",
    "\n",
    "    data_list = data.readlines()  # 读取数据\n",
    "    random.shuffle(data_list)   # 打乱数据\n",
    "\n",
    "    # 选取数量为count的数据写入result_path\n",
    "    if len(data) < count:\n",
    "        count = len(data)\n",
    "    for i in range(count): # 20w\n",
    "        result.write(data_list[i])\n",
    "\n",
    "    result.close()\n",
    "    data.close()"
   ],
   "metadata": {
    "collapsed": false
   }
  },
  {
   "cell_type": "code",
   "execution_count": 15,
   "outputs": [],
   "source": [
    "def regular(file_name):\n",
    "    \"\"\"\n",
    "    句子规范化，主要是对原始语料的句子进行一些标点符号的统一处理\n",
    "    \"\"\"\n",
    "    file = codecs.open(file_name, encoding=Config.encoding)\n",
    "    sen = []\n",
    "    for index, line in enumerate(file):\n",
    "        line = re.sub(r'…{1,100}', '…', line)\n",
    "        line = re.sub(r'\\.{3,100}', '…', line)\n",
    "        line = re.sub(r'···{2,100}', '…', line)\n",
    "        line = re.sub(r'\\.{1,100}', '。', line)\n",
    "        line = re.sub(r'。{1,100}', '。', line)\n",
    "        line = re.sub(r'？{1,100}', '？', line)\n",
    "        line = re.sub(r'!{1,100}', '！', line)\n",
    "        line = re.sub(r'！{1,100}', '！', line)\n",
    "        line = re.sub(r'~{1,100}', '～', line)\n",
    "        line = re.sub(r'～{1,100}', '～', line)\n",
    "        line = re.sub(r'\\d*\\.\\d+|\\d+', '1', line)  # 将所有数字都替换成1\n",
    "        sen.append(line)\n",
    "    file.close()\n",
    "\n",
    "    file = codecs.open(file_name, \"w\", encoding=Config.encoding)\n",
    "    for line in sen:\n",
    "        file.write(line)\n",
    "    file.close()"
   ],
   "metadata": {
    "collapsed": false
   }
  },
  {
   "cell_type": "code",
   "execution_count": 16,
   "outputs": [],
   "source": [
    "def file_remove_same(data_path):\n",
    "    \"\"\"数据去重\"\"\"\n",
    "    file = codecs.open(data_path, encoding=Config.encoding, errors='replace')\n",
    "    data = [item.strip() for item in file.readlines()]  # 针对最后一行没有换行符，与其他它行重复的情况\n",
    "    file.close()\n",
    "\n",
    "    result = codecs.open(data_path, 'w', encoding=Config.encoding)\n",
    "    new_data = list(set(data))\n",
    "    print(f\"{len(data)} --> {len(new_data)}\")\n",
    "    result.writelines([item + '\\n' for item in new_data if item])  # 针对去除文件中有多行空行的情况\n",
    "    result.close()"
   ],
   "metadata": {
    "collapsed": false
   }
  },
  {
   "cell_type": "code",
   "execution_count": 17,
   "outputs": [],
   "source": [
    "def qa_process(pairs, result, emotion_type):\n",
    "    \"\"\"处理[[sentence,emotion],[],...]\"\"\"\n",
    "\n",
    "    for pair in pairs:\n",
    "        # print(pair)\n",
    "        sentence, emotion = pair[0], pair[1]  # 句子，情感\n",
    "        if emotion != emotion_type:  # 情感不匹配\n",
    "            continue\n",
    "\n",
    "        # 处理句子\n",
    "        sentence = sentence.strip()\n",
    "        sentence = sentence.replace('\"', '“').replace(',', '，').replace(':', '：').replace('?', '？')  # 替换英文符号\n",
    "\n",
    "        symbol = '@'  # 分隔符\n",
    "        if symbol in sentence:  # 删除评论 train.json\n",
    "            continue\n",
    "        sentence = re.sub(r'\\[[\\u4e00-\\u9fa5a-zA-Z]{1,100}\\]', '', sentence)  # 去除表情\n",
    "        # print(sentence)\n",
    "        if len(sentence) > 0:\n",
    "            result.write(sentence + '\\n')  # 写入文件"
   ],
   "metadata": {
    "collapsed": false
   }
  },
  {
   "cell_type": "code",
   "execution_count": 18,
   "outputs": [],
   "source": [
    "def emo_train_process(data_path, result_path, emotion_type):\n",
    "    \"\"\"对emo_train进行处理\"\"\"\n",
    "    data = codecs.open(data_path, encoding=Config.encoding, errors='replace')\n",
    "\n",
    "    result = codecs.open(result_path, mode='a', encoding=Config.encoding)\n",
    "\n",
    "    pairs = json.load(data)  # 加载json文件\n",
    "    # print(pairs)\n",
    "    # 处理问答对\n",
    "    qa_process(pairs, result, emotion_type)\n",
    "\n",
    "    data.close()\n",
    "    result.close()"
   ],
   "metadata": {
    "collapsed": false
   }
  },
  {
   "cell_type": "code",
   "execution_count": 19,
   "outputs": [],
   "source": [
    "def ecg_train_process(data_path, result_path, emotion_type):\n",
    "    \"\"\"对ecg_train进行处理\"\"\"\n",
    "    data = codecs.open(data_path, encoding=Config.encoding, errors='replace')\n",
    "    result = codecs.open(result_path, mode='a', encoding=Config.encoding)\n",
    "\n",
    "    pairs = json.load(data)  # 加载json文件\n",
    "\n",
    "    for pair in pairs:  # 取出问答对\n",
    "        qa_process(pair, result, emotion_type)\n",
    "\n",
    "    data.close()\n",
    "    result.close()"
   ],
   "metadata": {
    "collapsed": false
   }
  },
  {
   "cell_type": "code",
   "execution_count": 20,
   "outputs": [],
   "source": [
    "def ecg_test_process(data_path, result_path, emotion_type):\n",
    "    \"\"\"对ecg_test进行处理\"\"\"\n",
    "    excel_data = pd.read_excel(data_path)\n",
    "    result = codecs.open(result_path, mode='a', encoding=Config.encoding)\n",
    "\n",
    "    # 其他（Null)，喜好(Like)，悲伤(Sad)，厌恶(Disgust)，愤怒(Anger)，高兴（Happiness\n",
    "    sentence, emotion, scores = list(excel_data['response']), list(excel_data['emotion']), list(excel_data['score'])\n",
    "\n",
    "    pairs = []\n",
    "    for sentence, emotion, score in zip(sentence, emotion, scores):\n",
    "        if type(sentence) != str or score != 2:\n",
    "            continue\n",
    "        sentence = jieba.lcut(sentence)\n",
    "        sentence = \" \".join(sentence)\n",
    "        qe = [sentence, emo_dict[emotion]]\n",
    "        pairs.append(qe)\n",
    "    qa_process(pairs, result, emotion_type)\n",
    "    result.close()"
   ],
   "metadata": {
    "collapsed": false
   }
  },
  {
   "cell_type": "code",
   "execution_count": 10,
   "outputs": [
    {
     "ename": "NameError",
     "evalue": "name 'Config' is not defined",
     "output_type": "error",
     "traceback": [
      "\u001B[1;31m---------------------------------------------------------------------------\u001B[0m",
      "\u001B[1;31mNameError\u001B[0m                                 Traceback (most recent call last)",
      "Cell \u001B[1;32mIn [10], line 1\u001B[0m\n\u001B[1;32m----> 1\u001B[0m source_data_path \u001B[38;5;241m=\u001B[39m \u001B[43mConfig\u001B[49m\u001B[38;5;241m.\u001B[39mdata_List\n\u001B[0;32m      2\u001B[0m result_data_path \u001B[38;5;241m=\u001B[39m Config\u001B[38;5;241m.\u001B[39mEmotion_List\n\u001B[0;32m      4\u001B[0m \u001B[38;5;28;01mfor\u001B[39;00m emotion, result \u001B[38;5;129;01min\u001B[39;00m  \u001B[38;5;28mzip\u001B[39m(emo_dict, result_data_path):\n",
      "\u001B[1;31mNameError\u001B[0m: name 'Config' is not defined"
     ]
    }
   ],
   "source": [
    "source_data_path = Config.data_List\n",
    "result_data_path = Config.Emotion_List\n",
    "\n",
    "for emotion, result in  zip(emo_dict, result_data_path):\n",
    "    print(f\"处理{emotion}\")\n",
    "\n",
    "    emo_train_process(source_data_path[0], result, emo_dict[emotion])\n",
    "    ecg_train_process(source_data_path[1], result, emo_dict[emotion])\n",
    "    ecg_test_process(source_data_path[2], result, emo_dict[emotion])\n",
    "\n",
    "    # 去除多余符号\n",
    "    print(\"去除多余符号\")\n",
    "    regular(result)\n",
    "\n",
    "    # 数据去重\n",
    "    print(\"数据去重\")\n",
    "    file_remove_same(result)"
   ],
   "metadata": {
    "collapsed": false
   }
  },
  {
   "cell_type": "markdown",
   "source": [
    "计算每个句子的词数"
   ],
   "metadata": {
    "collapsed": false
   }
  },
  {
   "cell_type": "code",
   "execution_count": 61,
   "outputs": [],
   "source": [
    "d = dict()\n"
   ],
   "metadata": {
    "collapsed": false
   }
  },
  {
   "cell_type": "code",
   "execution_count": 63,
   "outputs": [],
   "source": [
    "d.get(1)"
   ],
   "metadata": {
    "collapsed": false
   }
  },
  {
   "cell_type": "code",
   "execution_count": 60,
   "outputs": [],
   "source": [
    "if d.setdefault(1, 0):\n",
    "    print(111)"
   ],
   "metadata": {
    "collapsed": false
   }
  },
  {
   "cell_type": "code",
   "execution_count": 54,
   "outputs": [
    {
     "data": {
      "text/plain": "{1: 0}"
     },
     "execution_count": 54,
     "metadata": {},
     "output_type": "execute_result"
    }
   ],
   "source": [
    "d"
   ],
   "metadata": {
    "collapsed": false
   }
  },
  {
   "cell_type": "code",
   "execution_count": 14,
   "outputs": [],
   "source": [
    "import matplotlib.pyplot as plt\n",
    "result_data_path = Config.Emotion_List"
   ],
   "metadata": {
    "collapsed": false
   }
  },
  {
   "cell_type": "code",
   "execution_count": 67,
   "outputs": [
    {
     "name": "stdout",
     "output_type": "stream",
     "text": [
      "target_data\\null.tsv\n",
      "target_data\\like.tsv\n",
      "target_data\\sad.tsv\n",
      "target_data\\disgust.tsv\n",
      "target_data\\anger.tsv\n",
      "target_data\\happiness.tsv\n"
     ]
    }
   ],
   "source": [
    "len_count = dict()\n",
    "for file in result_data_path:\n",
    "    print(file)\n",
    "    with open(file, 'r', encoding=\"utf-8\") as f:\n",
    "        lines = f.readlines()\n",
    "    for line in lines:\n",
    "        length = len(line.split())\n",
    "        if length not in len_count.keys():\n",
    "            len_count[length] = 1\n",
    "        else:\n",
    "            len_count[length] += 1"
   ],
   "metadata": {
    "collapsed": false
   }
  },
  {
   "cell_type": "code",
   "execution_count": 69,
   "outputs": [
    {
     "data": {
      "text/plain": "{14: 90966,\n 8: 193275,\n 6: 197497,\n 9: 177097,\n 7: 200928,\n 12: 121771,\n 5: 173924,\n 19: 37260,\n 3: 69058,\n 10: 157203,\n 13: 106542,\n 4: 127307,\n 1: 4094,\n 2: 25712,\n 17: 54344,\n 16: 64837,\n 11: 139297,\n 18: 45263,\n 20: 30161,\n 22: 18305,\n 15: 76995,\n 28: 611,\n 21: 23781,\n 23: 12952,\n 26: 2496,\n 31: 177,\n 24: 8250,\n 34: 132,\n 38: 94,\n 36: 102,\n 47: 54,\n 41: 63,\n 33: 148,\n 25: 4772,\n 32: 153,\n 91: 3,\n 51: 46,\n 49: 43,\n 27: 1245,\n 30: 236,\n 56: 32,\n 29: 307,\n 50: 33,\n 44: 63,\n 37: 122,\n 42: 69,\n 39: 77,\n 35: 149,\n 75: 12,\n 45: 66,\n 59: 20,\n 43: 61,\n 53: 24,\n 40: 82,\n 60: 12,\n 58: 24,\n 54: 26,\n 65: 9,\n 48: 52,\n 70: 12,\n 73: 9,\n 46: 50,\n 52: 29,\n 69: 12,\n 71: 13,\n 68: 13,\n 76: 7,\n 57: 26,\n 55: 25,\n 74: 10,\n 92: 3,\n 107: 1,\n 82: 5,\n 64: 15,\n 62: 14,\n 63: 13,\n 96: 1,\n 66: 9,\n 61: 21,\n 109: 1,\n 72: 3,\n 94: 1,\n 81: 2,\n 77: 4,\n 79: 5,\n 88: 4,\n 89: 3,\n 80: 4,\n 83: 2,\n 85: 3,\n 78: 9,\n 67: 2,\n 84: 2,\n 86: 1,\n 87: 1,\n 93: 1,\n 90: 1}"
     },
     "execution_count": 69,
     "metadata": {},
     "output_type": "execute_result"
    }
   ],
   "source": [
    "len_count"
   ],
   "metadata": {
    "collapsed": false
   }
  },
  {
   "cell_type": "code",
   "execution_count": 73,
   "outputs": [
    {
     "data": {
      "text/plain": "<BarContainer object of 97 artists>"
     },
     "execution_count": 73,
     "metadata": {},
     "output_type": "execute_result"
    },
    {
     "data": {
      "text/plain": "<Figure size 640x480 with 1 Axes>",
      "image/png": "[encoded data removed]"
     },
     "metadata": {},
     "output_type": "display_data"
    }
   ],
   "source": [
    "plt.bar(len_count.keys(), len_count.values())"
   ],
   "metadata": {
    "collapsed": false,
    "pycharm": {
     "name": "#%%l\n"
    }
   }
  }
 ],
 "metadata": {
  "kernelspec": {
   "display_name": "Python 3",
   "language": "python",
   "name": "python3"
  },
  "language_info": {
   "codemirror_mode": {
    "name": "ipython",
    "version": 2
   },
   "file_extension": ".py",
   "mimetype": "text/x-python",
   "name": "python",
   "nbconvert_exporter": "python",
   "pygments_lexer": "ipython2",
   "version": "2.7.6"
  }
 },
 "nbformat": 4,
 "nbformat_minor": 0
}
