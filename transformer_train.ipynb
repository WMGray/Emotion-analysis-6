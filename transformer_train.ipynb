{
 "cells": [
  {
   "cell_type": "code",
   "execution_count": 1,
   "metadata": {
    "collapsed": true
   },
   "outputs": [],
   "source": [
    "import json\n",
    "import pandas as pd\n",
    "import random\n",
    "import torch\n",
    "from torch.utils.data import Dataset, DataLoader\n",
    "import torch.nn as nn\n",
    "from torch.cuda.amp import autocast\n",
    "from tqdm import tqdm\n",
    "\n",
    "from config import Config\n",
    "from transformer import *"
   ]
  },
  {
   "cell_type": "code",
   "execution_count": 2,
   "outputs": [],
   "source": [
    "d_model = 512  # embedding size  词嵌入维度\n",
    "max_len = 20  # max length of sentences    句子的最大长度\n",
    "d_ff = 2048  # feedforward neural network dimension  前馈神经网络隐藏层大小\n",
    "d_k = d_v = 64  # dimension of q、k、v     Q、K、V 维度\n",
    "n_layers = 6  # number of encoder and decoder layers  编码器、解码器层数\n",
    "n_headers = 8  # number of heads in multihead attention    注意力头数\n",
    "p_drop = 0.1  # probability of dropout    Dropout的概率"
   ],
   "metadata": {
    "collapsed": false
   }
  },
  {
   "cell_type": "code",
   "execution_count": 3,
   "outputs": [],
   "source": [
    "seed = 2022\n",
    "val_ratio = 0.2\n",
    "batch_size = 64\n",
    "output_size = 6"
   ],
   "metadata": {
    "collapsed": false
   }
  },
  {
   "cell_type": "code",
   "execution_count": 4,
   "outputs": [],
   "source": [
    "def seed_everything(seed):\n",
    "    random.seed(seed)\n",
    "    np.random.seed(seed)\n",
    "    torch.manual_seed(seed)\n",
    "    torch.cuda.manual_seed(seed)\n",
    "    torch.backends.cudnn.deterministic = True\n",
    "\n",
    "seed_everything(seed)"
   ],
   "metadata": {
    "collapsed": false
   }
  },
  {
   "cell_type": "code",
   "execution_count": 5,
   "outputs": [],
   "source": [
    "def load_file():\n",
    "    \"\"\"加载数据\"\"\"\n",
    "    # 加载数据集\n",
    "    null = pd.read_csv(Config.Emotion_List[0], header=None, index_col=None)  # null\n",
    "    like = pd.read_csv(Config.Emotion_List[1], header=None, index_col=None)  # like\n",
    "    sad = pd.read_csv(Config.Emotion_List[2], header=None, index_col=None)  # sad\n",
    "    disgust = pd.read_csv(Config.Emotion_List[3], header=None, index_col=None)  # disgust\n",
    "    anger = pd.read_csv(Config.Emotion_List[4], header=None, index_col=None)  # anger\n",
    "    happy = pd.read_csv(Config.Emotion_List[5], header=None, index_col=None) # happy\n",
    "\n",
    "\n",
    "    null = [row[0].split() for row in null.values]\n",
    "    like = [row[0].split() for row in like.values]\n",
    "    sad = [row[0].split() for row in sad.values]\n",
    "    disgust = [row[0].split() for row in disgust.values]\n",
    "    anger = [row[0].split() for row in anger.values]\n",
    "    happy = [row[0].split() for row in happy.values]\n",
    "\n",
    "    # 拼接\n",
    "    x = null + like + sad + disgust + anger + happy\n",
    "    print(type(x))\n",
    "    # null-0 like-1 sad-2 disgust-3 anger-4 happy-5\n",
    "    y = np.concatenate((np.zeros(len(null), dtype=int), np.ones(len(like), dtype=int),\n",
    "                        np.ones(len(sad), dtype=int) * 2, np.ones(len(disgust), dtype=int) * 3,\n",
    "                        np.ones(len(anger), dtype=int) * 4, np.ones(len(happy), dtype=int) * 5))\n",
    "\n",
    "    return x, y"
   ],
   "metadata": {
    "collapsed": false
   }
  },
  {
   "cell_type": "code",
   "execution_count": 6,
   "outputs": [],
   "source": [
    "def load_w2idx():\n",
    "    with open(Config.w2indx_path, \"r\", encoding=Config.encoding) as f:\n",
    "        return json.load(f)"
   ],
   "metadata": {
    "collapsed": false
   }
  },
  {
   "cell_type": "code",
   "execution_count": 7,
   "outputs": [],
   "source": [
    "def parse_dataset(combined):\n",
    "    \"\"\"将combined中的数据转换为索引表示\"\"\"\n",
    "    data = []\n",
    "    for sentence in combined:\n",
    "        new_txt = []\n",
    "        for word in sentence:\n",
    "            try:\n",
    "                new_txt.append(w2indx[word])\n",
    "            except:\n",
    "                new_txt.append(0)\n",
    "        new_txt=torch.Tensor(new_txt[:max_len]).long()\n",
    "        data.append(new_txt)\n",
    "    return data"
   ],
   "metadata": {
    "collapsed": false
   }
  },
  {
   "cell_type": "code",
   "execution_count": 8,
   "outputs": [],
   "source": [
    "class MYDataset(Dataset):\n",
    "    def __init__(self, x, y, index_dict):\n",
    "        self.x = x\n",
    "        self.y = y\n",
    "        self.n_symbols = len(index_dict) + 1  # 所有单词的索引数，频数小于10的词语索引为0，所以加1\n",
    "\n",
    "    def __getitem__(self, idx):\n",
    "        labels = torch.zeros(6)\n",
    "        labels[self.y[idx]] = 1\n",
    "\n",
    "        # print(self.x[idx])\n",
    "        return self.x[idx], labels\n",
    "\n",
    "    def __len__(self):\n",
    "        return len(self.x)"
   ],
   "metadata": {
    "collapsed": false
   }
  },
  {
   "cell_type": "code",
   "execution_count": 9,
   "outputs": [],
   "source": [
    "class TransformerClassifier(nn.Module):\n",
    "    def __init__(self):\n",
    "        super(TransformerClassifier, self).__init__()\n",
    "        self.encoder = Encoder()    # [batch, source_len, d_model]\n",
    "        self.fc = nn.Linear(max_len * d_model, output_size)\n",
    "\n",
    "    def forward(self, inputs):\n",
    "        \"\"\"\n",
    "        inputs: [batch, source_len]\n",
    "        \"\"\"\n",
    "        outputs, attns = self.encoder(inputs)   # [batch, source_len, d_model]\n",
    "        outputs = self.fc(outputs.view(outputs.shape[0], -1)) # [batch, output_size]\n",
    "\n",
    "        return outputs, attns"
   ],
   "metadata": {
    "collapsed": false
   }
  },
  {
   "cell_type": "code",
   "execution_count": 10,
   "outputs": [
    {
     "name": "stdout",
     "output_type": "stream",
     "text": [
      "Loading word2index....\n",
      "Loading data....\n",
      "<class 'list'>\n",
      "get data and labels\n"
     ]
    }
   ],
   "source": [
    "print(\"Loading word2index....\")\n",
    "w2indx = load_w2idx()\n",
    "w2indx['<PAD>'] = 0  # 添加填充字符\n",
    "\n",
    "print(\"Loading data....\")\n",
    "x, y = load_file()\n",
    "x = parse_dataset(x)\n",
    "x = nn.utils.rnn.pad_sequence(x, batch_first=True, padding_value=0)\n",
    "\n",
    "print(\"get data and labels\")\n",
    "dataset = MYDataset(x, y, w2indx)\n",
    "\n",
    "val_size = int(len(dataset) * val_ratio)\n",
    "train_size = len(dataset) - val_size\n",
    "train_dataset, val_dataset = torch.utils.data.random_split(dataset, [train_size, val_size]) # (1735017, 433754)\n",
    "\n",
    "train_loader = DataLoader(train_dataset, batch_size=batch_size, shuffle=True, drop_last=True)\n",
    "val_loader = DataLoader(val_dataset, batch_size=batch_size, shuffle=True, drop_last=True)"
   ],
   "metadata": {
    "collapsed": false
   }
  },
  {
   "cell_type": "code",
   "execution_count": 11,
   "outputs": [
    {
     "data": {
      "text/plain": "TransformerClassifier(\n  (encoder): Encoder(\n    (source_embedding): Embedding(43655, 512)\n    (positional_embedding): PositionalEncoding(\n      (dropout): Dropout(p=0.1, inplace=False)\n    )\n    (layers): ModuleList(\n      (0): EncoderLayer(\n        (encoder_self_attn): MultiHeadAttention(\n          (W_Q): Linear(in_features=512, out_features=512, bias=False)\n          (W_K): Linear(in_features=512, out_features=512, bias=False)\n          (W_V): Linear(in_features=512, out_features=512, bias=False)\n          (fc): Linear(in_features=512, out_features=512, bias=False)\n          (layer_norm): LayerNorm((512,), eps=1e-05, elementwise_affine=True)\n        )\n        (ffn): FeedForwardNetwork(\n          (ff1): Conv1d(512, 2048, kernel_size=(1,), stride=(1,))\n          (ff2): Conv1d(2048, 512, kernel_size=(1,), stride=(1,))\n          (relu): ReLU()\n          (dropout): Dropout(p=0.1, inplace=False)\n          (layer_norm): LayerNorm((512,), eps=1e-05, elementwise_affine=True)\n        )\n      )\n      (1): EncoderLayer(\n        (encoder_self_attn): MultiHeadAttention(\n          (W_Q): Linear(in_features=512, out_features=512, bias=False)\n          (W_K): Linear(in_features=512, out_features=512, bias=False)\n          (W_V): Linear(in_features=512, out_features=512, bias=False)\n          (fc): Linear(in_features=512, out_features=512, bias=False)\n          (layer_norm): LayerNorm((512,), eps=1e-05, elementwise_affine=True)\n        )\n        (ffn): FeedForwardNetwork(\n          (ff1): Conv1d(512, 2048, kernel_size=(1,), stride=(1,))\n          (ff2): Conv1d(2048, 512, kernel_size=(1,), stride=(1,))\n          (relu): ReLU()\n          (dropout): Dropout(p=0.1, inplace=False)\n          (layer_norm): LayerNorm((512,), eps=1e-05, elementwise_affine=True)\n        )\n      )\n      (2): EncoderLayer(\n        (encoder_self_attn): MultiHeadAttention(\n          (W_Q): Linear(in_features=512, out_features=512, bias=False)\n          (W_K): Linear(in_features=512, out_features=512, bias=False)\n          (W_V): Linear(in_features=512, out_features=512, bias=False)\n          (fc): Linear(in_features=512, out_features=512, bias=False)\n          (layer_norm): LayerNorm((512,), eps=1e-05, elementwise_affine=True)\n        )\n        (ffn): FeedForwardNetwork(\n          (ff1): Conv1d(512, 2048, kernel_size=(1,), stride=(1,))\n          (ff2): Conv1d(2048, 512, kernel_size=(1,), stride=(1,))\n          (relu): ReLU()\n          (dropout): Dropout(p=0.1, inplace=False)\n          (layer_norm): LayerNorm((512,), eps=1e-05, elementwise_affine=True)\n        )\n      )\n      (3): EncoderLayer(\n        (encoder_self_attn): MultiHeadAttention(\n          (W_Q): Linear(in_features=512, out_features=512, bias=False)\n          (W_K): Linear(in_features=512, out_features=512, bias=False)\n          (W_V): Linear(in_features=512, out_features=512, bias=False)\n          (fc): Linear(in_features=512, out_features=512, bias=False)\n          (layer_norm): LayerNorm((512,), eps=1e-05, elementwise_affine=True)\n        )\n        (ffn): FeedForwardNetwork(\n          (ff1): Conv1d(512, 2048, kernel_size=(1,), stride=(1,))\n          (ff2): Conv1d(2048, 512, kernel_size=(1,), stride=(1,))\n          (relu): ReLU()\n          (dropout): Dropout(p=0.1, inplace=False)\n          (layer_norm): LayerNorm((512,), eps=1e-05, elementwise_affine=True)\n        )\n      )\n      (4): EncoderLayer(\n        (encoder_self_attn): MultiHeadAttention(\n          (W_Q): Linear(in_features=512, out_features=512, bias=False)\n          (W_K): Linear(in_features=512, out_features=512, bias=False)\n          (W_V): Linear(in_features=512, out_features=512, bias=False)\n          (fc): Linear(in_features=512, out_features=512, bias=False)\n          (layer_norm): LayerNorm((512,), eps=1e-05, elementwise_affine=True)\n        )\n        (ffn): FeedForwardNetwork(\n          (ff1): Conv1d(512, 2048, kernel_size=(1,), stride=(1,))\n          (ff2): Conv1d(2048, 512, kernel_size=(1,), stride=(1,))\n          (relu): ReLU()\n          (dropout): Dropout(p=0.1, inplace=False)\n          (layer_norm): LayerNorm((512,), eps=1e-05, elementwise_affine=True)\n        )\n      )\n      (5): EncoderLayer(\n        (encoder_self_attn): MultiHeadAttention(\n          (W_Q): Linear(in_features=512, out_features=512, bias=False)\n          (W_K): Linear(in_features=512, out_features=512, bias=False)\n          (W_V): Linear(in_features=512, out_features=512, bias=False)\n          (fc): Linear(in_features=512, out_features=512, bias=False)\n          (layer_norm): LayerNorm((512,), eps=1e-05, elementwise_affine=True)\n        )\n        (ffn): FeedForwardNetwork(\n          (ff1): Conv1d(512, 2048, kernel_size=(1,), stride=(1,))\n          (ff2): Conv1d(2048, 512, kernel_size=(1,), stride=(1,))\n          (relu): ReLU()\n          (dropout): Dropout(p=0.1, inplace=False)\n          (layer_norm): LayerNorm((512,), eps=1e-05, elementwise_affine=True)\n        )\n      )\n    )\n  )\n  (fc): Linear(in_features=10240, out_features=6, bias=True)\n)"
     },
     "execution_count": 11,
     "metadata": {},
     "output_type": "execute_result"
    }
   ],
   "source": [
    "model = TransformerClassifier()\n",
    "model.cuda()"
   ],
   "metadata": {
    "collapsed": false
   }
  },
  {
   "cell_type": "code",
   "execution_count": 12,
   "outputs": [],
   "source": [
    "optimizer = optim.Adam(model.parameters(), lr=1e-4)\n",
    "loss_fn = nn.CrossEntropyLoss().to('cuda')\n",
    "scheduler = optim.lr_scheduler.StepLR(optimizer, step_size=3,\n",
    "                                      gamma=0.4)  # reduce the learning after 20 epochs by a factor of 10"
   ],
   "metadata": {
    "collapsed": false
   }
  },
  {
   "cell_type": "code",
   "execution_count": 13,
   "outputs": [],
   "source": [
    "def train(model, epoch):\n",
    "    model.train()\n",
    "    epoch_loss = 0.0\n",
    "    epoch_acc = 0.0\n",
    "    with tqdm(train_loader, unit=\"batch\") as tepoch: # 🌟 1. 定义进度条\n",
    "        for inputs, labels in tepoch:   # 🌟 2. 设置迭代器\n",
    "            tepoch.set_description(f\"Epoch {epoch} train: \") # 🌟 3. 设置开头\n",
    "\n",
    "            inputs, labels = inputs.cuda(), labels.cuda()\n",
    "\n",
    "            with autocast():\n",
    "                # print(inputs.size(), labels.size())\n",
    "                outputs, _ = model(inputs)  # outputs, attns\n",
    "                # print(outputs.shape, labels)\n",
    "                loss = loss_fn(outputs, labels)\n",
    "                correct = (outputs.argmax(axis=1) == labels.argmax(axis=1)).sum().item()\n",
    "\n",
    "            optimizer.zero_grad()\n",
    "            loss.backward()\n",
    "            optimizer.step()\n",
    "\n",
    "            epoch_loss += loss.item()\n",
    "            epoch_acc += correct\n",
    "\n",
    "        train_acc = epoch_acc / len(train_loader.dataset)\n",
    "        # print(epoch_acc, len(train_loader.dataset))\n",
    "        train_loss = epoch_loss / len(train_loader.dataset)\n",
    "\n",
    "        tepoch.write(\"Train Epoch: {} Train Loss: {:.6f} Train Acc: {:.6f}\".format(epoch, train_loss, train_acc))\n",
    "        tepoch.close()\n",
    "\n",
    "        return train_acc, train_loss"
   ],
   "metadata": {
    "collapsed": false
   }
  },
  {
   "cell_type": "code",
   "execution_count": 14,
   "outputs": [],
   "source": [
    "def test(model, epoch):\n",
    "    epoch_loss = 0\n",
    "    epoch_acc = 0\n",
    "    model.eval() # set the model to evaluation mode\n",
    "    with tqdm(val_loader, unit=\"batch\") as vepoch: # 🌟 1. 定义进度条\n",
    "        with torch.no_grad():\n",
    "            for inputs, labels in vepoch:   # 🌟 2. 设置迭代器\n",
    "                vepoch.set_description(f\"Epoch {epoch} val: \") # 🌟 3. 设置开头\n",
    "                inputs, labels = inputs.cuda(), labels.cuda()\n",
    "\n",
    "                outputs, _ = model(inputs)\n",
    "                loss = loss_fn(outputs, labels)\n",
    "                # 计算准确率\n",
    "                correct = (outputs.argmax(axis=1) == labels.argmax(axis=1)).sum().item()\n",
    "\n",
    "                epoch_loss += loss.item()\n",
    "                epoch_acc += correct\n",
    "\n",
    "        val_acc = epoch_acc / len(val_loader.dataset)\n",
    "        val_loss = epoch_loss / len(val_loader.dataset)\n",
    "\n",
    "        vepoch.write(\"Test Epoch: {} Test Loss {:.6f} Test Accuracy: {:.6f}\\n\".format(epoch, val_loss, val_acc))\n",
    "        vepoch.close()\n",
    "\n",
    "        return val_acc, val_loss"
   ],
   "metadata": {
    "collapsed": false
   }
  },
  {
   "cell_type": "code",
   "execution_count": 15,
   "outputs": [],
   "source": [
    "train_accs, train_losses, val_accs, val_losses = [], [], [], []"
   ],
   "metadata": {
    "collapsed": false
   }
  },
  {
   "cell_type": "code",
   "execution_count": null,
   "outputs": [
    {
     "name": "stderr",
     "output_type": "stream",
     "text": [
      "Epoch 1 train: : 100%|██████████| 27109/27109 [16:38<00:00, 27.14batch/s]\n"
     ]
    },
    {
     "name": "stdout",
     "output_type": "stream",
     "text": [
      "Train Epoch: 1 Train Loss: 0.008170 Train Acc: 0.808385\n"
     ]
    },
    {
     "name": "stderr",
     "output_type": "stream",
     "text": [
      "Epoch 1 val: : 100%|██████████| 6777/6777 [01:37<00:00, 69.67batch/s]\n"
     ]
    },
    {
     "name": "stdout",
     "output_type": "stream",
     "text": [
      "Test Epoch: 1 Test Loss 0.006383 Test Accuracy: 0.851656\n",
      "\n",
      "Epoch: 1 saving model with Acc 0.852\n"
     ]
    },
    {
     "name": "stderr",
     "output_type": "stream",
     "text": [
      "Epoch 2 train: : 100%|██████████| 27109/27109 [16:23<00:00, 27.55batch/s]\n"
     ]
    },
    {
     "name": "stdout",
     "output_type": "stream",
     "text": [
      "Train Epoch: 2 Train Loss: 0.005873 Train Acc: 0.862706\n"
     ]
    },
    {
     "name": "stderr",
     "output_type": "stream",
     "text": [
      "Epoch 2 val: : 100%|██████████| 6777/6777 [01:38<00:00, 68.93batch/s]\n"
     ]
    },
    {
     "name": "stdout",
     "output_type": "stream",
     "text": [
      "Test Epoch: 2 Test Loss 0.005782 Test Accuracy: 0.864617\n",
      "\n",
      "Epoch: 2 saving model with Acc 0.865\n"
     ]
    },
    {
     "name": "stderr",
     "output_type": "stream",
     "text": [
      "Epoch 3 train: :  63%|██████▎   | 17045/27109 [10:27<06:03, 27.72batch/s]"
     ]
    }
   ],
   "source": [
    "model_path =\"model/transformerencoder.pth\"\n",
    "n_epochs = 15\n",
    "best_acc = 0.0\n",
    "for epoch in range(1, n_epochs + 1):\n",
    "    train_acc, train_loss = train(model, epoch)\n",
    "    val_acc, val_loss = test(model, epoch)\n",
    "\n",
    "    train_accs.append(train_acc), train_losses.append(train_loss)\n",
    "    val_accs.append(val_acc), val_losses.append(val_loss)\n",
    "\n",
    "    scheduler.step()\n",
    "    if val_acc >= best_acc:\n",
    "        best_acc = val_acc\n",
    "        torch.save({'epoch': epoch, 'state_dict': model.state_dict()}, model_path)\n",
    "        print('Epoch: {} saving model with Acc {:.3f}'.format(epoch, best_acc))"
   ],
   "metadata": {
    "collapsed": false,
    "pycharm": {
     "is_executing": true
    }
   }
  },
  {
   "cell_type": "code",
   "execution_count": null,
   "outputs": [],
   "source": [
    "int(-1e9)"
   ],
   "metadata": {
    "collapsed": false,
    "pycharm": {
     "name": "#%%e\n",
     "is_executing": true
    }
   }
  },
  {
   "cell_type": "code",
   "execution_count": null,
   "outputs": [],
   "source": [
    "a = torch.randn(2,3)"
   ],
   "metadata": {
    "collapsed": false,
    "pycharm": {
     "is_executing": true
    }
   }
  },
  {
   "cell_type": "code",
   "execution_count": null,
   "outputs": [],
   "source": [
    " a"
   ],
   "metadata": {
    "collapsed": false,
    "pycharm": {
     "is_executing": true
    }
   }
  }
 ],
 "metadata": {
  "kernelspec": {
   "display_name": "Python 3",
   "language": "python",
   "name": "python3"
  },
  "language_info": {
   "codemirror_mode": {
    "name": "ipython",
    "version": 2
   },
   "file_extension": ".py",
   "mimetype": "text/x-python",
   "name": "python",
   "nbconvert_exporter": "python",
   "pygments_lexer": "ipython2",
   "version": "2.7.6"
  }
 },
 "nbformat": 4,
 "nbformat_minor": 0
}
